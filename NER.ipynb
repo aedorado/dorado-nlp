{
 "cells": [
  {
   "cell_type": "code",
   "execution_count": 20,
   "metadata": {
    "collapsed": false
   },
   "outputs": [
    {
     "name": "stdout",
     "output_type": "stream",
     "text": [
      "(NE Gandhi/NNP)\n",
      "(NE Dandi/NNP Salt/NNP March/NNP)\n",
      "(NE British/JJ)\n",
      "(NE India/NNP)\n",
      "(NE South/NNP Africa/NNP)\n",
      "(NE India/NNP)\n",
      "(NE Gandhi/NNP)\n",
      "(NE Indian/JJ)\n",
      "set(['South Africa', 'India', 'British', 'Indian', 'Gandhi', 'Dandi Salt March'])\n"
     ]
    }
   ],
   "source": [
    "import nltk \n",
    "import pprint\n",
    "\n",
    "sample = \"\"\"Gandhi famously led Indians in challenging the British-imposed salt tax with the 400 km (250 mi) Dandi Salt March in 1930, and later in calling for the British to Quit India in 1942. He was imprisoned for many years, upon many occasions, in both South Africa and India. Gandhi attempted to practise nonviolence and truth in all situations, and advocated that others do the same. He lived modestly in a self-sufficient residential community and wore the traditional Indian dhoti and shawl, woven with yarn hand-spun on a charkha. He ate simple vegetarian food, and also undertook long fasts as a means of both self-purification and social protest.\"\"\"\n",
    "\n",
    "sentences = nltk.sent_tokenize(sample)\n",
    "tokenized_sentences = [nltk.word_tokenize(sentence) for sentence in sentences]\n",
    "tagged_sentences = [nltk.pos_tag(sentence) for sentence in tokenized_sentences]\n",
    "chunked_sentences = nltk.ne_chunk_sents(tagged_sentences, binary=True)\n",
    "\n",
    "def extract_entity_names(t):\n",
    "    entity_names = []\n",
    "\n",
    "    if hasattr(t, 'label') and t.label:\n",
    "        if t.label() == 'NE':\n",
    "            print t\n",
    "            entity_names.append(' '.join([child[0] for child in t]))\n",
    "        else:\n",
    "            for child in t:\n",
    "                entity_names.extend(extract_entity_names(child))\n",
    "\n",
    "    return entity_names\n",
    "\n",
    "entity_names = []\n",
    "for tree in chunked_sentences:\n",
    "    # Print results per sentence\n",
    "    # print extract_entity_names(tree)\n",
    "\n",
    "    entity_names.extend(extract_entity_names(tree))\n",
    "\n",
    "# Print all entity names\n",
    "#print entity_names\n",
    "\n",
    "# Print unique entity names\n",
    "print set(entity_names)"
   ]
  },
  {
   "cell_type": "code",
   "execution_count": 22,
   "metadata": {
    "collapsed": false
   },
   "outputs": [
    {
     "name": "stdout",
     "output_type": "stream",
     "text": [
      "(S\n",
      "  (GPE Gandhi/NNP)\n",
      "  famously/RB\n",
      "  led/VBD\n",
      "  (GPE Indians/NNPS)\n",
      "  in/IN\n",
      "  challenging/VBG\n",
      "  the/DT\n",
      "  British-imposed/JJ\n",
      "  salt/NN\n",
      "  tax/NN\n",
      "  with/IN\n",
      "  the/DT\n",
      "  400/CD\n",
      "  km/NN\n",
      "  (/(\n",
      "  250/CD\n",
      "  mi/NN\n",
      "  )/)\n",
      "  (PERSON Dandi/NNP Salt/NNP)\n",
      "  March/NNP\n",
      "  in/IN\n",
      "  1930/CD\n",
      "  ,/,\n",
      "  and/CC\n",
      "  later/RB\n",
      "  in/IN\n",
      "  calling/VBG\n",
      "  for/IN\n",
      "  the/DT\n",
      "  (GPE British/JJ)\n",
      "  to/TO\n",
      "  Quit/VB\n",
      "  (GPE India/NNP)\n",
      "  in/IN\n",
      "  1942/CD\n",
      "  ./.)\n"
     ]
    }
   ],
   "source": [
    "print(nltk.ne_chunk(tagged_sentences[0]))"
   ]
  },
  {
   "cell_type": "code",
   "execution_count": 41,
   "metadata": {
    "collapsed": false
   },
   "outputs": [],
   "source": [
    "from nltk.tag import StanfordNERTagger\n",
    "st = StanfordNERTagger('english.all.3class.distsim.crf.ser.gz')\n",
    "\n",
    "sent = \"Gandhi initially favoured offering nonviolent moral support to the British effort when World War II broke out in 1939, but the Congressional leaders were offended by the unilateral inclusion of India in the war without consultation of the people's representatives. All Congressmen resigned from office.[124] After long deliberations, Gandhi declared that India could not be party to a war ostensibly being fought for democratic freedom while that freedom was denied to India itself. As the war progressed, Gandhi intensified his demand for independence, calling for the British to Quit India in a speech at Gowalia Tank Maidan. This was Gandhi's and the Congress Party's most definitive revolt aimed at securing the British exit from India. Gandhi was criticised by some Congress party members and other Indian political groups, both pro-British and anti-British. Some felt that not supporting Britain more in its struggle against Nazi Germany was unethical. Others felt that Gandhi's refusal for India to participate in the war was insufficient and more direct opposition should be taken, while Britain fought against Nazism, it continued to refuse to grant India Independence. Quit India became the most forceful movement in the history of the struggle, with mass arrests and violence on an unprecedented scale.\"\n",
    "\n",
    "ners = st.tag(sent.split()) "
   ]
  },
  {
   "cell_type": "code",
   "execution_count": 42,
   "metadata": {
    "collapsed": false
   },
   "outputs": [],
   "source": [
    "ner_dict = {}\n",
    "for ner in ners:\n",
    "    if ner[1] != u'O':\n",
    "        if ner in ner_dict:\n",
    "            ner_dict[ner] = ner_dict[ner] + 1\n",
    "        else:\n",
    "            ner_dict[ner] = 1"
   ]
  },
  {
   "cell_type": "code",
   "execution_count": 43,
   "metadata": {
    "collapsed": false
   },
   "outputs": [
    {
     "name": "stdout",
     "output_type": "stream",
     "text": [
      "{(u'Britain', u'LOCATION'): 2,\n",
      " (u'Congress', u'ORGANIZATION'): 2,\n",
      " (u'Congressional', u'ORGANIZATION'): 1,\n",
      " (u'Gandhi', u'PERSON'): 6,\n",
      " (u'Germany', u'LOCATION'): 1,\n",
      " (u'Gowalia', u'LOCATION'): 1,\n",
      " (u'India', u'LOCATION'): 6,\n",
      " (u'Indian', u'LOCATION'): 1,\n",
      " (u'Maidan', u'LOCATION'): 1,\n",
      " (u'Nazi', u'ORGANIZATION'): 1,\n",
      " (u'Party', u'ORGANIZATION'): 1,\n",
      " (u'Tank', u'LOCATION'): 1,\n",
      " (u'party', u'ORGANIZATION'): 1}\n"
     ]
    }
   ],
   "source": [
    "pprint.pprint(ner_dict)"
   ]
  }
 ],
 "metadata": {
  "kernelspec": {
   "display_name": "Python 2",
   "language": "python",
   "name": "python2"
  },
  "language_info": {
   "codemirror_mode": {
    "name": "ipython",
    "version": 2
   },
   "file_extension": ".py",
   "mimetype": "text/x-python",
   "name": "python",
   "nbconvert_exporter": "python",
   "pygments_lexer": "ipython2",
   "version": "2.7.9"
  }
 },
 "nbformat": 4,
 "nbformat_minor": 2
}
